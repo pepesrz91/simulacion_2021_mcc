{
  "nbformat": 4,
  "nbformat_minor": 0,
  "metadata": {
    "colab": {
      "name": "Tarea4.ipynb",
      "provenance": [],
      "collapsed_sections": [],
      "mount_file_id": "1P2PklE81-e6cxByp0aUVgXHcBBDZYTDN",
      "authorship_tag": "ABX9TyOuTHXaoHlM0eKlSvI/n/L8",
      "include_colab_link": true
    },
    "kernelspec": {
      "name": "python3",
      "display_name": "Python 3"
    },
    "language_info": {
      "name": "python"
    }
  },
  "cells": [
    {
      "cell_type": "markdown",
      "metadata": {
        "id": "view-in-github",
        "colab_type": "text"
      },
      "source": [
        "<a href=\"https://colab.research.google.com/github/pepesrz91/simulacion_2021_mcc/blob/main/Tarea4.ipynb\" target=\"_parent\"><img src=\"https://colab.research.google.com/assets/colab-badge.svg\" alt=\"Open In Colab\"/></a>"
      ]
    },
    {
      "cell_type": "code",
      "metadata": {
        "id": "oo-2vh0Co1sV"
      },
      "source": [
        "import pandas as pd\n",
        "from sklearn import preprocessing\n",
        "from scipy import stats\n",
        "from sklearn.model_selection import train_test_split\n",
        "from sklearn.linear_model import LinearRegression\n",
        "import matplotlib.pyplot as plt\n",
        "import statsmodels.api as sm\n",
        "import numpy as np\n",
        "import sklearn.utils as utils\n",
        "\n",
        "from sklearn.metrics import mean_squared_error\n",
        "\n",
        "\n",
        "encoder = preprocessing.LabelEncoder()"
      ],
      "execution_count": null,
      "outputs": []
    },
    {
      "cell_type": "code",
      "metadata": {
        "id": "MphBYEaDa1GU"
      },
      "source": [
        "def mean_absolute_percentage_error(y_true, y_pred): \n",
        "    y_true, y_pred = utils.check_arrays(y_true, y_pred)\n",
        "\n",
        "    ## Note: does not handle mix 1d representation\n",
        "    #if _is_1d(y_true): \n",
        "    #    y_true, y_pred = _check_1d_array(y_true, y_pred)\n",
        "\n",
        "    return np.mean(np.abs((y_true - y_pred) / y_true)) * 100"
      ],
      "execution_count": null,
      "outputs": []
    },
    {
      "cell_type": "markdown",
      "metadata": {
        "id": "nLiUo39NYd6_"
      },
      "source": [
        "B) realizando transformación el punto A se encuentra más abajo después de haber llevado a cabo las transformaciones. "
      ]
    },
    {
      "cell_type": "code",
      "metadata": {
        "id": "Vt6ryQwKplAW",
        "colab": {
          "base_uri": "https://localhost:8080/",
          "height": 439
        },
        "outputId": "3b9d406e-9d28-409b-d51b-28299d697825"
      },
      "source": [
        "col_names = [\"TotalPageLikes\", \"Type\", \"Category\", \"PastMonth\", \"PostWeekDay\", \"PostHour\", \"Paid\", \"LifetimePostTotalReach\",\"LifetimePostTotalImpressions\", \"LifeTimeEngagedUsers\", \"LifetimePostConsumers\", \"LifeTimePostConsumptions\", \"LPIPeopleWhohaveLikedPage\",  \"LPIPeopleWhoLikePage\", \"LifeTimePeopleEngagedWithPost\", \"Comment\", \"Likes\", \"Share\", \"TotalInteractions\"]\n",
        "data = pd.read_csv(\"/content/drive/MyDrive/Presentaciones/dataset_Facebook.csv\", sep=\";\", skiprows=[0], names=col_names)\n",
        "data.iloc[1:]"
      ],
      "execution_count": null,
      "outputs": [
        {
          "output_type": "execute_result",
          "data": {
            "text/html": [
              "<div>\n",
              "<style scoped>\n",
              "    .dataframe tbody tr th:only-of-type {\n",
              "        vertical-align: middle;\n",
              "    }\n",
              "\n",
              "    .dataframe tbody tr th {\n",
              "        vertical-align: top;\n",
              "    }\n",
              "\n",
              "    .dataframe thead th {\n",
              "        text-align: right;\n",
              "    }\n",
              "</style>\n",
              "<table border=\"1\" class=\"dataframe\">\n",
              "  <thead>\n",
              "    <tr style=\"text-align: right;\">\n",
              "      <th></th>\n",
              "      <th>TotalPageLikes</th>\n",
              "      <th>Type</th>\n",
              "      <th>Category</th>\n",
              "      <th>PastMonth</th>\n",
              "      <th>PostWeekDay</th>\n",
              "      <th>PostHour</th>\n",
              "      <th>Paid</th>\n",
              "      <th>LifetimePostTotalReach</th>\n",
              "      <th>LifetimePostTotalImpressions</th>\n",
              "      <th>LifeTimeEngagedUsers</th>\n",
              "      <th>LifetimePostConsumers</th>\n",
              "      <th>LifeTimePostConsumptions</th>\n",
              "      <th>LPIPeopleWhohaveLikedPage</th>\n",
              "      <th>LPIPeopleWhoLikePage</th>\n",
              "      <th>LifeTimePeopleEngagedWithPost</th>\n",
              "      <th>Comment</th>\n",
              "      <th>Likes</th>\n",
              "      <th>Share</th>\n",
              "      <th>TotalInteractions</th>\n",
              "    </tr>\n",
              "  </thead>\n",
              "  <tbody>\n",
              "    <tr>\n",
              "      <th>1</th>\n",
              "      <td>139441</td>\n",
              "      <td>Status</td>\n",
              "      <td>2</td>\n",
              "      <td>12</td>\n",
              "      <td>3</td>\n",
              "      <td>10</td>\n",
              "      <td>0.0</td>\n",
              "      <td>10460</td>\n",
              "      <td>19057</td>\n",
              "      <td>1457</td>\n",
              "      <td>1361</td>\n",
              "      <td>1674</td>\n",
              "      <td>11710</td>\n",
              "      <td>6112</td>\n",
              "      <td>1108</td>\n",
              "      <td>5</td>\n",
              "      <td>130.0</td>\n",
              "      <td>29.0</td>\n",
              "      <td>164</td>\n",
              "    </tr>\n",
              "    <tr>\n",
              "      <th>2</th>\n",
              "      <td>139441</td>\n",
              "      <td>Photo</td>\n",
              "      <td>3</td>\n",
              "      <td>12</td>\n",
              "      <td>3</td>\n",
              "      <td>3</td>\n",
              "      <td>0.0</td>\n",
              "      <td>2413</td>\n",
              "      <td>4373</td>\n",
              "      <td>177</td>\n",
              "      <td>113</td>\n",
              "      <td>154</td>\n",
              "      <td>2812</td>\n",
              "      <td>1503</td>\n",
              "      <td>132</td>\n",
              "      <td>0</td>\n",
              "      <td>66.0</td>\n",
              "      <td>14.0</td>\n",
              "      <td>80</td>\n",
              "    </tr>\n",
              "    <tr>\n",
              "      <th>3</th>\n",
              "      <td>139441</td>\n",
              "      <td>Photo</td>\n",
              "      <td>2</td>\n",
              "      <td>12</td>\n",
              "      <td>2</td>\n",
              "      <td>10</td>\n",
              "      <td>1.0</td>\n",
              "      <td>50128</td>\n",
              "      <td>87991</td>\n",
              "      <td>2211</td>\n",
              "      <td>790</td>\n",
              "      <td>1119</td>\n",
              "      <td>61027</td>\n",
              "      <td>32048</td>\n",
              "      <td>1386</td>\n",
              "      <td>58</td>\n",
              "      <td>1572.0</td>\n",
              "      <td>147.0</td>\n",
              "      <td>1777</td>\n",
              "    </tr>\n",
              "    <tr>\n",
              "      <th>4</th>\n",
              "      <td>139441</td>\n",
              "      <td>Photo</td>\n",
              "      <td>2</td>\n",
              "      <td>12</td>\n",
              "      <td>2</td>\n",
              "      <td>3</td>\n",
              "      <td>0.0</td>\n",
              "      <td>7244</td>\n",
              "      <td>13594</td>\n",
              "      <td>671</td>\n",
              "      <td>410</td>\n",
              "      <td>580</td>\n",
              "      <td>6228</td>\n",
              "      <td>3200</td>\n",
              "      <td>396</td>\n",
              "      <td>19</td>\n",
              "      <td>325.0</td>\n",
              "      <td>49.0</td>\n",
              "      <td>393</td>\n",
              "    </tr>\n",
              "    <tr>\n",
              "      <th>5</th>\n",
              "      <td>139441</td>\n",
              "      <td>Status</td>\n",
              "      <td>2</td>\n",
              "      <td>12</td>\n",
              "      <td>1</td>\n",
              "      <td>9</td>\n",
              "      <td>0.0</td>\n",
              "      <td>10472</td>\n",
              "      <td>20849</td>\n",
              "      <td>1191</td>\n",
              "      <td>1073</td>\n",
              "      <td>1389</td>\n",
              "      <td>16034</td>\n",
              "      <td>7852</td>\n",
              "      <td>1016</td>\n",
              "      <td>1</td>\n",
              "      <td>152.0</td>\n",
              "      <td>33.0</td>\n",
              "      <td>186</td>\n",
              "    </tr>\n",
              "    <tr>\n",
              "      <th>...</th>\n",
              "      <td>...</td>\n",
              "      <td>...</td>\n",
              "      <td>...</td>\n",
              "      <td>...</td>\n",
              "      <td>...</td>\n",
              "      <td>...</td>\n",
              "      <td>...</td>\n",
              "      <td>...</td>\n",
              "      <td>...</td>\n",
              "      <td>...</td>\n",
              "      <td>...</td>\n",
              "      <td>...</td>\n",
              "      <td>...</td>\n",
              "      <td>...</td>\n",
              "      <td>...</td>\n",
              "      <td>...</td>\n",
              "      <td>...</td>\n",
              "      <td>...</td>\n",
              "      <td>...</td>\n",
              "    </tr>\n",
              "    <tr>\n",
              "      <th>495</th>\n",
              "      <td>85093</td>\n",
              "      <td>Photo</td>\n",
              "      <td>3</td>\n",
              "      <td>1</td>\n",
              "      <td>7</td>\n",
              "      <td>2</td>\n",
              "      <td>0.0</td>\n",
              "      <td>4684</td>\n",
              "      <td>7536</td>\n",
              "      <td>733</td>\n",
              "      <td>708</td>\n",
              "      <td>985</td>\n",
              "      <td>4750</td>\n",
              "      <td>2876</td>\n",
              "      <td>392</td>\n",
              "      <td>5</td>\n",
              "      <td>53.0</td>\n",
              "      <td>26.0</td>\n",
              "      <td>84</td>\n",
              "    </tr>\n",
              "    <tr>\n",
              "      <th>496</th>\n",
              "      <td>81370</td>\n",
              "      <td>Photo</td>\n",
              "      <td>2</td>\n",
              "      <td>1</td>\n",
              "      <td>5</td>\n",
              "      <td>8</td>\n",
              "      <td>0.0</td>\n",
              "      <td>3480</td>\n",
              "      <td>6229</td>\n",
              "      <td>537</td>\n",
              "      <td>508</td>\n",
              "      <td>687</td>\n",
              "      <td>3961</td>\n",
              "      <td>2104</td>\n",
              "      <td>301</td>\n",
              "      <td>0</td>\n",
              "      <td>53.0</td>\n",
              "      <td>22.0</td>\n",
              "      <td>75</td>\n",
              "    </tr>\n",
              "    <tr>\n",
              "      <th>497</th>\n",
              "      <td>81370</td>\n",
              "      <td>Photo</td>\n",
              "      <td>1</td>\n",
              "      <td>1</td>\n",
              "      <td>5</td>\n",
              "      <td>2</td>\n",
              "      <td>0.0</td>\n",
              "      <td>3778</td>\n",
              "      <td>7216</td>\n",
              "      <td>625</td>\n",
              "      <td>572</td>\n",
              "      <td>795</td>\n",
              "      <td>4742</td>\n",
              "      <td>2388</td>\n",
              "      <td>363</td>\n",
              "      <td>4</td>\n",
              "      <td>93.0</td>\n",
              "      <td>18.0</td>\n",
              "      <td>115</td>\n",
              "    </tr>\n",
              "    <tr>\n",
              "      <th>498</th>\n",
              "      <td>81370</td>\n",
              "      <td>Photo</td>\n",
              "      <td>3</td>\n",
              "      <td>1</td>\n",
              "      <td>4</td>\n",
              "      <td>11</td>\n",
              "      <td>0.0</td>\n",
              "      <td>4156</td>\n",
              "      <td>7564</td>\n",
              "      <td>626</td>\n",
              "      <td>574</td>\n",
              "      <td>832</td>\n",
              "      <td>4534</td>\n",
              "      <td>2452</td>\n",
              "      <td>370</td>\n",
              "      <td>7</td>\n",
              "      <td>91.0</td>\n",
              "      <td>38.0</td>\n",
              "      <td>136</td>\n",
              "    </tr>\n",
              "    <tr>\n",
              "      <th>499</th>\n",
              "      <td>81370</td>\n",
              "      <td>Photo</td>\n",
              "      <td>2</td>\n",
              "      <td>1</td>\n",
              "      <td>4</td>\n",
              "      <td>4</td>\n",
              "      <td>NaN</td>\n",
              "      <td>4188</td>\n",
              "      <td>7292</td>\n",
              "      <td>564</td>\n",
              "      <td>524</td>\n",
              "      <td>743</td>\n",
              "      <td>3861</td>\n",
              "      <td>2200</td>\n",
              "      <td>316</td>\n",
              "      <td>0</td>\n",
              "      <td>91.0</td>\n",
              "      <td>28.0</td>\n",
              "      <td>119</td>\n",
              "    </tr>\n",
              "  </tbody>\n",
              "</table>\n",
              "<p>499 rows × 19 columns</p>\n",
              "</div>"
            ],
            "text/plain": [
              "     TotalPageLikes    Type  Category  ...   Likes  Share  TotalInteractions\n",
              "1            139441  Status         2  ...   130.0   29.0                164\n",
              "2            139441   Photo         3  ...    66.0   14.0                 80\n",
              "3            139441   Photo         2  ...  1572.0  147.0               1777\n",
              "4            139441   Photo         2  ...   325.0   49.0                393\n",
              "5            139441  Status         2  ...   152.0   33.0                186\n",
              "..              ...     ...       ...  ...     ...    ...                ...\n",
              "495           85093   Photo         3  ...    53.0   26.0                 84\n",
              "496           81370   Photo         2  ...    53.0   22.0                 75\n",
              "497           81370   Photo         1  ...    93.0   18.0                115\n",
              "498           81370   Photo         3  ...    91.0   38.0                136\n",
              "499           81370   Photo         2  ...    91.0   28.0                119\n",
              "\n",
              "[499 rows x 19 columns]"
            ]
          },
          "metadata": {},
          "execution_count": 235
        }
      ]
    },
    {
      "cell_type": "code",
      "metadata": {
        "colab": {
          "base_uri": "https://localhost:8080/"
        },
        "id": "gbEiC1FbroDu",
        "outputId": "ae1378f7-2c90-49c7-a5d2-236b8b3692a8"
      },
      "source": [
        "len(col_names)"
      ],
      "execution_count": null,
      "outputs": [
        {
          "output_type": "execute_result",
          "data": {
            "text/plain": [
              "19"
            ]
          },
          "metadata": {},
          "execution_count": 236
        }
      ]
    },
    {
      "cell_type": "code",
      "metadata": {
        "id": "HY0TAt9dppgc",
        "colab": {
          "base_uri": "https://localhost:8080/",
          "height": 224
        },
        "outputId": "e4d92cd8-5643-49d4-a615-69b50c22dd43"
      },
      "source": [
        "data.head()"
      ],
      "execution_count": null,
      "outputs": [
        {
          "output_type": "execute_result",
          "data": {
            "text/html": [
              "<div>\n",
              "<style scoped>\n",
              "    .dataframe tbody tr th:only-of-type {\n",
              "        vertical-align: middle;\n",
              "    }\n",
              "\n",
              "    .dataframe tbody tr th {\n",
              "        vertical-align: top;\n",
              "    }\n",
              "\n",
              "    .dataframe thead th {\n",
              "        text-align: right;\n",
              "    }\n",
              "</style>\n",
              "<table border=\"1\" class=\"dataframe\">\n",
              "  <thead>\n",
              "    <tr style=\"text-align: right;\">\n",
              "      <th></th>\n",
              "      <th>TotalPageLikes</th>\n",
              "      <th>Type</th>\n",
              "      <th>Category</th>\n",
              "      <th>PastMonth</th>\n",
              "      <th>PostWeekDay</th>\n",
              "      <th>PostHour</th>\n",
              "      <th>Paid</th>\n",
              "      <th>LifetimePostTotalReach</th>\n",
              "      <th>LifetimePostTotalImpressions</th>\n",
              "      <th>LifeTimeEngagedUsers</th>\n",
              "      <th>LifetimePostConsumers</th>\n",
              "      <th>LifeTimePostConsumptions</th>\n",
              "      <th>LPIPeopleWhohaveLikedPage</th>\n",
              "      <th>LPIPeopleWhoLikePage</th>\n",
              "      <th>LifeTimePeopleEngagedWithPost</th>\n",
              "      <th>Comment</th>\n",
              "      <th>Likes</th>\n",
              "      <th>Share</th>\n",
              "      <th>TotalInteractions</th>\n",
              "    </tr>\n",
              "  </thead>\n",
              "  <tbody>\n",
              "    <tr>\n",
              "      <th>0</th>\n",
              "      <td>139441</td>\n",
              "      <td>Photo</td>\n",
              "      <td>2</td>\n",
              "      <td>12</td>\n",
              "      <td>4</td>\n",
              "      <td>3</td>\n",
              "      <td>0.0</td>\n",
              "      <td>2752</td>\n",
              "      <td>5091</td>\n",
              "      <td>178</td>\n",
              "      <td>109</td>\n",
              "      <td>159</td>\n",
              "      <td>3078</td>\n",
              "      <td>1640</td>\n",
              "      <td>119</td>\n",
              "      <td>4</td>\n",
              "      <td>79.0</td>\n",
              "      <td>17.0</td>\n",
              "      <td>100</td>\n",
              "    </tr>\n",
              "    <tr>\n",
              "      <th>1</th>\n",
              "      <td>139441</td>\n",
              "      <td>Status</td>\n",
              "      <td>2</td>\n",
              "      <td>12</td>\n",
              "      <td>3</td>\n",
              "      <td>10</td>\n",
              "      <td>0.0</td>\n",
              "      <td>10460</td>\n",
              "      <td>19057</td>\n",
              "      <td>1457</td>\n",
              "      <td>1361</td>\n",
              "      <td>1674</td>\n",
              "      <td>11710</td>\n",
              "      <td>6112</td>\n",
              "      <td>1108</td>\n",
              "      <td>5</td>\n",
              "      <td>130.0</td>\n",
              "      <td>29.0</td>\n",
              "      <td>164</td>\n",
              "    </tr>\n",
              "    <tr>\n",
              "      <th>2</th>\n",
              "      <td>139441</td>\n",
              "      <td>Photo</td>\n",
              "      <td>3</td>\n",
              "      <td>12</td>\n",
              "      <td>3</td>\n",
              "      <td>3</td>\n",
              "      <td>0.0</td>\n",
              "      <td>2413</td>\n",
              "      <td>4373</td>\n",
              "      <td>177</td>\n",
              "      <td>113</td>\n",
              "      <td>154</td>\n",
              "      <td>2812</td>\n",
              "      <td>1503</td>\n",
              "      <td>132</td>\n",
              "      <td>0</td>\n",
              "      <td>66.0</td>\n",
              "      <td>14.0</td>\n",
              "      <td>80</td>\n",
              "    </tr>\n",
              "    <tr>\n",
              "      <th>3</th>\n",
              "      <td>139441</td>\n",
              "      <td>Photo</td>\n",
              "      <td>2</td>\n",
              "      <td>12</td>\n",
              "      <td>2</td>\n",
              "      <td>10</td>\n",
              "      <td>1.0</td>\n",
              "      <td>50128</td>\n",
              "      <td>87991</td>\n",
              "      <td>2211</td>\n",
              "      <td>790</td>\n",
              "      <td>1119</td>\n",
              "      <td>61027</td>\n",
              "      <td>32048</td>\n",
              "      <td>1386</td>\n",
              "      <td>58</td>\n",
              "      <td>1572.0</td>\n",
              "      <td>147.0</td>\n",
              "      <td>1777</td>\n",
              "    </tr>\n",
              "    <tr>\n",
              "      <th>4</th>\n",
              "      <td>139441</td>\n",
              "      <td>Photo</td>\n",
              "      <td>2</td>\n",
              "      <td>12</td>\n",
              "      <td>2</td>\n",
              "      <td>3</td>\n",
              "      <td>0.0</td>\n",
              "      <td>7244</td>\n",
              "      <td>13594</td>\n",
              "      <td>671</td>\n",
              "      <td>410</td>\n",
              "      <td>580</td>\n",
              "      <td>6228</td>\n",
              "      <td>3200</td>\n",
              "      <td>396</td>\n",
              "      <td>19</td>\n",
              "      <td>325.0</td>\n",
              "      <td>49.0</td>\n",
              "      <td>393</td>\n",
              "    </tr>\n",
              "  </tbody>\n",
              "</table>\n",
              "</div>"
            ],
            "text/plain": [
              "   TotalPageLikes    Type  Category  ...   Likes  Share  TotalInteractions\n",
              "0          139441   Photo         2  ...    79.0   17.0                100\n",
              "1          139441  Status         2  ...   130.0   29.0                164\n",
              "2          139441   Photo         3  ...    66.0   14.0                 80\n",
              "3          139441   Photo         2  ...  1572.0  147.0               1777\n",
              "4          139441   Photo         2  ...   325.0   49.0                393\n",
              "\n",
              "[5 rows x 19 columns]"
            ]
          },
          "metadata": {},
          "execution_count": 237
        }
      ]
    },
    {
      "cell_type": "code",
      "metadata": {
        "id": "dCNKTSJ6tblT"
      },
      "source": [
        "data = data.dropna()"
      ],
      "execution_count": null,
      "outputs": []
    },
    {
      "cell_type": "code",
      "metadata": {
        "colab": {
          "base_uri": "https://localhost:8080/",
          "height": 224
        },
        "id": "OJdQ08LADi_L",
        "outputId": "82c0f6d0-b6d1-4746-e1d9-ac050f3388f8"
      },
      "source": [
        "data[\"Type\"] = encoder.fit_transform(data['Type'].astype(str))\n",
        "data.head()"
      ],
      "execution_count": null,
      "outputs": [
        {
          "output_type": "execute_result",
          "data": {
            "text/html": [
              "<div>\n",
              "<style scoped>\n",
              "    .dataframe tbody tr th:only-of-type {\n",
              "        vertical-align: middle;\n",
              "    }\n",
              "\n",
              "    .dataframe tbody tr th {\n",
              "        vertical-align: top;\n",
              "    }\n",
              "\n",
              "    .dataframe thead th {\n",
              "        text-align: right;\n",
              "    }\n",
              "</style>\n",
              "<table border=\"1\" class=\"dataframe\">\n",
              "  <thead>\n",
              "    <tr style=\"text-align: right;\">\n",
              "      <th></th>\n",
              "      <th>TotalPageLikes</th>\n",
              "      <th>Type</th>\n",
              "      <th>Category</th>\n",
              "      <th>PastMonth</th>\n",
              "      <th>PostWeekDay</th>\n",
              "      <th>PostHour</th>\n",
              "      <th>Paid</th>\n",
              "      <th>LifetimePostTotalReach</th>\n",
              "      <th>LifetimePostTotalImpressions</th>\n",
              "      <th>LifeTimeEngagedUsers</th>\n",
              "      <th>LifetimePostConsumers</th>\n",
              "      <th>LifeTimePostConsumptions</th>\n",
              "      <th>LPIPeopleWhohaveLikedPage</th>\n",
              "      <th>LPIPeopleWhoLikePage</th>\n",
              "      <th>LifeTimePeopleEngagedWithPost</th>\n",
              "      <th>Comment</th>\n",
              "      <th>Likes</th>\n",
              "      <th>Share</th>\n",
              "      <th>TotalInteractions</th>\n",
              "    </tr>\n",
              "  </thead>\n",
              "  <tbody>\n",
              "    <tr>\n",
              "      <th>0</th>\n",
              "      <td>139441</td>\n",
              "      <td>1</td>\n",
              "      <td>2</td>\n",
              "      <td>12</td>\n",
              "      <td>4</td>\n",
              "      <td>3</td>\n",
              "      <td>0.0</td>\n",
              "      <td>2752</td>\n",
              "      <td>5091</td>\n",
              "      <td>178</td>\n",
              "      <td>109</td>\n",
              "      <td>159</td>\n",
              "      <td>3078</td>\n",
              "      <td>1640</td>\n",
              "      <td>119</td>\n",
              "      <td>4</td>\n",
              "      <td>79.0</td>\n",
              "      <td>17.0</td>\n",
              "      <td>100</td>\n",
              "    </tr>\n",
              "    <tr>\n",
              "      <th>1</th>\n",
              "      <td>139441</td>\n",
              "      <td>2</td>\n",
              "      <td>2</td>\n",
              "      <td>12</td>\n",
              "      <td>3</td>\n",
              "      <td>10</td>\n",
              "      <td>0.0</td>\n",
              "      <td>10460</td>\n",
              "      <td>19057</td>\n",
              "      <td>1457</td>\n",
              "      <td>1361</td>\n",
              "      <td>1674</td>\n",
              "      <td>11710</td>\n",
              "      <td>6112</td>\n",
              "      <td>1108</td>\n",
              "      <td>5</td>\n",
              "      <td>130.0</td>\n",
              "      <td>29.0</td>\n",
              "      <td>164</td>\n",
              "    </tr>\n",
              "    <tr>\n",
              "      <th>2</th>\n",
              "      <td>139441</td>\n",
              "      <td>1</td>\n",
              "      <td>3</td>\n",
              "      <td>12</td>\n",
              "      <td>3</td>\n",
              "      <td>3</td>\n",
              "      <td>0.0</td>\n",
              "      <td>2413</td>\n",
              "      <td>4373</td>\n",
              "      <td>177</td>\n",
              "      <td>113</td>\n",
              "      <td>154</td>\n",
              "      <td>2812</td>\n",
              "      <td>1503</td>\n",
              "      <td>132</td>\n",
              "      <td>0</td>\n",
              "      <td>66.0</td>\n",
              "      <td>14.0</td>\n",
              "      <td>80</td>\n",
              "    </tr>\n",
              "    <tr>\n",
              "      <th>3</th>\n",
              "      <td>139441</td>\n",
              "      <td>1</td>\n",
              "      <td>2</td>\n",
              "      <td>12</td>\n",
              "      <td>2</td>\n",
              "      <td>10</td>\n",
              "      <td>1.0</td>\n",
              "      <td>50128</td>\n",
              "      <td>87991</td>\n",
              "      <td>2211</td>\n",
              "      <td>790</td>\n",
              "      <td>1119</td>\n",
              "      <td>61027</td>\n",
              "      <td>32048</td>\n",
              "      <td>1386</td>\n",
              "      <td>58</td>\n",
              "      <td>1572.0</td>\n",
              "      <td>147.0</td>\n",
              "      <td>1777</td>\n",
              "    </tr>\n",
              "    <tr>\n",
              "      <th>4</th>\n",
              "      <td>139441</td>\n",
              "      <td>1</td>\n",
              "      <td>2</td>\n",
              "      <td>12</td>\n",
              "      <td>2</td>\n",
              "      <td>3</td>\n",
              "      <td>0.0</td>\n",
              "      <td>7244</td>\n",
              "      <td>13594</td>\n",
              "      <td>671</td>\n",
              "      <td>410</td>\n",
              "      <td>580</td>\n",
              "      <td>6228</td>\n",
              "      <td>3200</td>\n",
              "      <td>396</td>\n",
              "      <td>19</td>\n",
              "      <td>325.0</td>\n",
              "      <td>49.0</td>\n",
              "      <td>393</td>\n",
              "    </tr>\n",
              "  </tbody>\n",
              "</table>\n",
              "</div>"
            ],
            "text/plain": [
              "   TotalPageLikes  Type  Category  ...   Likes  Share  TotalInteractions\n",
              "0          139441     1         2  ...    79.0   17.0                100\n",
              "1          139441     2         2  ...   130.0   29.0                164\n",
              "2          139441     1         3  ...    66.0   14.0                 80\n",
              "3          139441     1         2  ...  1572.0  147.0               1777\n",
              "4          139441     1         2  ...   325.0   49.0                393\n",
              "\n",
              "[5 rows x 19 columns]"
            ]
          },
          "metadata": {},
          "execution_count": 239
        }
      ]
    },
    {
      "cell_type": "code",
      "metadata": {
        "colab": {
          "base_uri": "https://localhost:8080/"
        },
        "id": "20CoD-M5EAXY",
        "outputId": "381c800e-2cf7-4bb0-e4ee-1af85c14fa72"
      },
      "source": [
        "print(data.isna().sum()) "
      ],
      "execution_count": null,
      "outputs": [
        {
          "output_type": "stream",
          "name": "stdout",
          "text": [
            "TotalPageLikes                   0\n",
            "Type                             0\n",
            "Category                         0\n",
            "PastMonth                        0\n",
            "PostWeekDay                      0\n",
            "PostHour                         0\n",
            "Paid                             0\n",
            "LifetimePostTotalReach           0\n",
            "LifetimePostTotalImpressions     0\n",
            "LifeTimeEngagedUsers             0\n",
            "LifetimePostConsumers            0\n",
            "LifeTimePostConsumptions         0\n",
            "LPIPeopleWhohaveLikedPage        0\n",
            "LPIPeopleWhoLikePage             0\n",
            "LifeTimePeopleEngagedWithPost    0\n",
            "Comment                          0\n",
            "Likes                            0\n",
            "Share                            0\n",
            "TotalInteractions                0\n",
            "dtype: int64\n"
          ]
        }
      ]
    },
    {
      "cell_type": "code",
      "metadata": {
        "colab": {
          "base_uri": "https://localhost:8080/",
          "height": 224
        },
        "id": "08H_OimlCmLu",
        "outputId": "24caa18c-1c0d-4e9d-a834-8fb1942d30e0"
      },
      "source": [
        "normalized_data = preprocessing.normalize(data)\n",
        "train_data = pd.DataFrame(normalized_data, columns=col_names)\n",
        "train_data.head()\n"
      ],
      "execution_count": null,
      "outputs": [
        {
          "output_type": "execute_result",
          "data": {
            "text/html": [
              "<div>\n",
              "<style scoped>\n",
              "    .dataframe tbody tr th:only-of-type {\n",
              "        vertical-align: middle;\n",
              "    }\n",
              "\n",
              "    .dataframe tbody tr th {\n",
              "        vertical-align: top;\n",
              "    }\n",
              "\n",
              "    .dataframe thead th {\n",
              "        text-align: right;\n",
              "    }\n",
              "</style>\n",
              "<table border=\"1\" class=\"dataframe\">\n",
              "  <thead>\n",
              "    <tr style=\"text-align: right;\">\n",
              "      <th></th>\n",
              "      <th>TotalPageLikes</th>\n",
              "      <th>Type</th>\n",
              "      <th>Category</th>\n",
              "      <th>PastMonth</th>\n",
              "      <th>PostWeekDay</th>\n",
              "      <th>PostHour</th>\n",
              "      <th>Paid</th>\n",
              "      <th>LifetimePostTotalReach</th>\n",
              "      <th>LifetimePostTotalImpressions</th>\n",
              "      <th>LifeTimeEngagedUsers</th>\n",
              "      <th>LifetimePostConsumers</th>\n",
              "      <th>LifeTimePostConsumptions</th>\n",
              "      <th>LPIPeopleWhohaveLikedPage</th>\n",
              "      <th>LPIPeopleWhoLikePage</th>\n",
              "      <th>LifeTimePeopleEngagedWithPost</th>\n",
              "      <th>Comment</th>\n",
              "      <th>Likes</th>\n",
              "      <th>Share</th>\n",
              "      <th>TotalInteractions</th>\n",
              "    </tr>\n",
              "  </thead>\n",
              "  <tbody>\n",
              "    <tr>\n",
              "      <th>0</th>\n",
              "      <td>0.998825</td>\n",
              "      <td>0.000007</td>\n",
              "      <td>0.000014</td>\n",
              "      <td>0.000086</td>\n",
              "      <td>0.000029</td>\n",
              "      <td>0.000021</td>\n",
              "      <td>0.000000</td>\n",
              "      <td>0.019713</td>\n",
              "      <td>0.036467</td>\n",
              "      <td>0.001275</td>\n",
              "      <td>0.000781</td>\n",
              "      <td>0.001139</td>\n",
              "      <td>0.022048</td>\n",
              "      <td>0.011747</td>\n",
              "      <td>0.000852</td>\n",
              "      <td>0.000029</td>\n",
              "      <td>0.000566</td>\n",
              "      <td>0.000122</td>\n",
              "      <td>0.000716</td>\n",
              "    </tr>\n",
              "    <tr>\n",
              "      <th>1</th>\n",
              "      <td>0.983568</td>\n",
              "      <td>0.000014</td>\n",
              "      <td>0.000014</td>\n",
              "      <td>0.000085</td>\n",
              "      <td>0.000021</td>\n",
              "      <td>0.000071</td>\n",
              "      <td>0.000000</td>\n",
              "      <td>0.073781</td>\n",
              "      <td>0.134421</td>\n",
              "      <td>0.010277</td>\n",
              "      <td>0.009600</td>\n",
              "      <td>0.011808</td>\n",
              "      <td>0.082598</td>\n",
              "      <td>0.043112</td>\n",
              "      <td>0.007815</td>\n",
              "      <td>0.000035</td>\n",
              "      <td>0.000917</td>\n",
              "      <td>0.000205</td>\n",
              "      <td>0.001157</td>\n",
              "    </tr>\n",
              "    <tr>\n",
              "      <th>2</th>\n",
              "      <td>0.999096</td>\n",
              "      <td>0.000007</td>\n",
              "      <td>0.000021</td>\n",
              "      <td>0.000086</td>\n",
              "      <td>0.000021</td>\n",
              "      <td>0.000021</td>\n",
              "      <td>0.000000</td>\n",
              "      <td>0.017289</td>\n",
              "      <td>0.031333</td>\n",
              "      <td>0.001268</td>\n",
              "      <td>0.000810</td>\n",
              "      <td>0.001103</td>\n",
              "      <td>0.020148</td>\n",
              "      <td>0.010769</td>\n",
              "      <td>0.000946</td>\n",
              "      <td>0.000000</td>\n",
              "      <td>0.000473</td>\n",
              "      <td>0.000100</td>\n",
              "      <td>0.000573</td>\n",
              "    </tr>\n",
              "    <tr>\n",
              "      <th>3</th>\n",
              "      <td>0.751109</td>\n",
              "      <td>0.000005</td>\n",
              "      <td>0.000011</td>\n",
              "      <td>0.000065</td>\n",
              "      <td>0.000011</td>\n",
              "      <td>0.000054</td>\n",
              "      <td>0.000005</td>\n",
              "      <td>0.270018</td>\n",
              "      <td>0.473970</td>\n",
              "      <td>0.011910</td>\n",
              "      <td>0.004255</td>\n",
              "      <td>0.006028</td>\n",
              "      <td>0.328726</td>\n",
              "      <td>0.172629</td>\n",
              "      <td>0.007466</td>\n",
              "      <td>0.000312</td>\n",
              "      <td>0.008468</td>\n",
              "      <td>0.000792</td>\n",
              "      <td>0.009572</td>\n",
              "    </tr>\n",
              "    <tr>\n",
              "      <th>4</th>\n",
              "      <td>0.992683</td>\n",
              "      <td>0.000007</td>\n",
              "      <td>0.000014</td>\n",
              "      <td>0.000085</td>\n",
              "      <td>0.000014</td>\n",
              "      <td>0.000021</td>\n",
              "      <td>0.000000</td>\n",
              "      <td>0.051570</td>\n",
              "      <td>0.096776</td>\n",
              "      <td>0.004777</td>\n",
              "      <td>0.002919</td>\n",
              "      <td>0.004129</td>\n",
              "      <td>0.044337</td>\n",
              "      <td>0.022781</td>\n",
              "      <td>0.002819</td>\n",
              "      <td>0.000135</td>\n",
              "      <td>0.002314</td>\n",
              "      <td>0.000349</td>\n",
              "      <td>0.002798</td>\n",
              "    </tr>\n",
              "  </tbody>\n",
              "</table>\n",
              "</div>"
            ],
            "text/plain": [
              "   TotalPageLikes      Type  Category  ...     Likes     Share  TotalInteractions\n",
              "0        0.998825  0.000007  0.000014  ...  0.000566  0.000122           0.000716\n",
              "1        0.983568  0.000014  0.000014  ...  0.000917  0.000205           0.001157\n",
              "2        0.999096  0.000007  0.000021  ...  0.000473  0.000100           0.000573\n",
              "3        0.751109  0.000005  0.000011  ...  0.008468  0.000792           0.009572\n",
              "4        0.992683  0.000007  0.000014  ...  0.002314  0.000349           0.002798\n",
              "\n",
              "[5 rows x 19 columns]"
            ]
          },
          "metadata": {},
          "execution_count": 241
        }
      ]
    },
    {
      "cell_type": "code",
      "metadata": {
        "colab": {
          "base_uri": "https://localhost:8080/",
          "height": 224
        },
        "id": "H7ezi2Qktx-f",
        "outputId": "7d09b828-fd7a-45e5-daf3-478f792cc041"
      },
      "source": [
        "data.head()"
      ],
      "execution_count": null,
      "outputs": [
        {
          "output_type": "execute_result",
          "data": {
            "text/html": [
              "<div>\n",
              "<style scoped>\n",
              "    .dataframe tbody tr th:only-of-type {\n",
              "        vertical-align: middle;\n",
              "    }\n",
              "\n",
              "    .dataframe tbody tr th {\n",
              "        vertical-align: top;\n",
              "    }\n",
              "\n",
              "    .dataframe thead th {\n",
              "        text-align: right;\n",
              "    }\n",
              "</style>\n",
              "<table border=\"1\" class=\"dataframe\">\n",
              "  <thead>\n",
              "    <tr style=\"text-align: right;\">\n",
              "      <th></th>\n",
              "      <th>TotalPageLikes</th>\n",
              "      <th>Type</th>\n",
              "      <th>Category</th>\n",
              "      <th>PastMonth</th>\n",
              "      <th>PostWeekDay</th>\n",
              "      <th>PostHour</th>\n",
              "      <th>Paid</th>\n",
              "      <th>LifetimePostTotalReach</th>\n",
              "      <th>LifetimePostTotalImpressions</th>\n",
              "      <th>LifeTimeEngagedUsers</th>\n",
              "      <th>LifetimePostConsumers</th>\n",
              "      <th>LifeTimePostConsumptions</th>\n",
              "      <th>LPIPeopleWhohaveLikedPage</th>\n",
              "      <th>LPIPeopleWhoLikePage</th>\n",
              "      <th>LifeTimePeopleEngagedWithPost</th>\n",
              "      <th>Comment</th>\n",
              "      <th>Likes</th>\n",
              "      <th>Share</th>\n",
              "      <th>TotalInteractions</th>\n",
              "    </tr>\n",
              "  </thead>\n",
              "  <tbody>\n",
              "    <tr>\n",
              "      <th>0</th>\n",
              "      <td>139441</td>\n",
              "      <td>1</td>\n",
              "      <td>2</td>\n",
              "      <td>12</td>\n",
              "      <td>4</td>\n",
              "      <td>3</td>\n",
              "      <td>0.0</td>\n",
              "      <td>2752</td>\n",
              "      <td>5091</td>\n",
              "      <td>178</td>\n",
              "      <td>109</td>\n",
              "      <td>159</td>\n",
              "      <td>3078</td>\n",
              "      <td>1640</td>\n",
              "      <td>119</td>\n",
              "      <td>4</td>\n",
              "      <td>79.0</td>\n",
              "      <td>17.0</td>\n",
              "      <td>100</td>\n",
              "    </tr>\n",
              "    <tr>\n",
              "      <th>1</th>\n",
              "      <td>139441</td>\n",
              "      <td>2</td>\n",
              "      <td>2</td>\n",
              "      <td>12</td>\n",
              "      <td>3</td>\n",
              "      <td>10</td>\n",
              "      <td>0.0</td>\n",
              "      <td>10460</td>\n",
              "      <td>19057</td>\n",
              "      <td>1457</td>\n",
              "      <td>1361</td>\n",
              "      <td>1674</td>\n",
              "      <td>11710</td>\n",
              "      <td>6112</td>\n",
              "      <td>1108</td>\n",
              "      <td>5</td>\n",
              "      <td>130.0</td>\n",
              "      <td>29.0</td>\n",
              "      <td>164</td>\n",
              "    </tr>\n",
              "    <tr>\n",
              "      <th>2</th>\n",
              "      <td>139441</td>\n",
              "      <td>1</td>\n",
              "      <td>3</td>\n",
              "      <td>12</td>\n",
              "      <td>3</td>\n",
              "      <td>3</td>\n",
              "      <td>0.0</td>\n",
              "      <td>2413</td>\n",
              "      <td>4373</td>\n",
              "      <td>177</td>\n",
              "      <td>113</td>\n",
              "      <td>154</td>\n",
              "      <td>2812</td>\n",
              "      <td>1503</td>\n",
              "      <td>132</td>\n",
              "      <td>0</td>\n",
              "      <td>66.0</td>\n",
              "      <td>14.0</td>\n",
              "      <td>80</td>\n",
              "    </tr>\n",
              "    <tr>\n",
              "      <th>3</th>\n",
              "      <td>139441</td>\n",
              "      <td>1</td>\n",
              "      <td>2</td>\n",
              "      <td>12</td>\n",
              "      <td>2</td>\n",
              "      <td>10</td>\n",
              "      <td>1.0</td>\n",
              "      <td>50128</td>\n",
              "      <td>87991</td>\n",
              "      <td>2211</td>\n",
              "      <td>790</td>\n",
              "      <td>1119</td>\n",
              "      <td>61027</td>\n",
              "      <td>32048</td>\n",
              "      <td>1386</td>\n",
              "      <td>58</td>\n",
              "      <td>1572.0</td>\n",
              "      <td>147.0</td>\n",
              "      <td>1777</td>\n",
              "    </tr>\n",
              "    <tr>\n",
              "      <th>4</th>\n",
              "      <td>139441</td>\n",
              "      <td>1</td>\n",
              "      <td>2</td>\n",
              "      <td>12</td>\n",
              "      <td>2</td>\n",
              "      <td>3</td>\n",
              "      <td>0.0</td>\n",
              "      <td>7244</td>\n",
              "      <td>13594</td>\n",
              "      <td>671</td>\n",
              "      <td>410</td>\n",
              "      <td>580</td>\n",
              "      <td>6228</td>\n",
              "      <td>3200</td>\n",
              "      <td>396</td>\n",
              "      <td>19</td>\n",
              "      <td>325.0</td>\n",
              "      <td>49.0</td>\n",
              "      <td>393</td>\n",
              "    </tr>\n",
              "  </tbody>\n",
              "</table>\n",
              "</div>"
            ],
            "text/plain": [
              "   TotalPageLikes  Type  Category  ...   Likes  Share  TotalInteractions\n",
              "0          139441     1         2  ...    79.0   17.0                100\n",
              "1          139441     2         2  ...   130.0   29.0                164\n",
              "2          139441     1         3  ...    66.0   14.0                 80\n",
              "3          139441     1         2  ...  1572.0  147.0               1777\n",
              "4          139441     1         2  ...   325.0   49.0                393\n",
              "\n",
              "[5 rows x 19 columns]"
            ]
          },
          "metadata": {},
          "execution_count": 242
        }
      ]
    },
    {
      "cell_type": "code",
      "metadata": {
        "id": "TEcpeAEKEen7"
      },
      "source": [
        "X = train_data[[\"TotalPageLikes\", \"Type\", \"Category\", \"PastMonth\", \"PostWeekDay\", \"PostHour\", \"Paid\", \"LifetimePostTotalReach\",\"LifetimePostTotalImpressions\", \"LifeTimeEngagedUsers\", \"LifetimePostConsumers\", \"LifeTimePostConsumptions\", \"LPIPeopleWhohaveLikedPage\",  \"LPIPeopleWhoLikePage\", \"LifeTimePeopleEngagedWithPost\", \"Comment\", \"Share\", \"TotalInteractions\"]]\n",
        "Y = train_data[\"Likes\"]\n",
        "\n",
        "X_train, X_test, Y_train, Y_test = train_test_split(X,Y,test_size=0.2,random_state=10)"
      ],
      "execution_count": null,
      "outputs": []
    },
    {
      "cell_type": "code",
      "metadata": {
        "colab": {
          "base_uri": "https://localhost:8080/"
        },
        "id": "hffa7EBcThOz",
        "outputId": "6b6ddf6b-1819-4070-c642-0edbc13d607c"
      },
      "source": [
        "X_train = sm.add_constant(X_train)\n",
        "X_test = sm.add_constant(X_test)\n",
        "print(X_train)"
      ],
      "execution_count": null,
      "outputs": [
        {
          "output_type": "stream",
          "name": "stdout",
          "text": [
            "     const  TotalPageLikes      Type  ...   Comment     Share  TotalInteractions\n",
            "163    1.0        0.980102  0.000007  ...  0.000058  0.000463           0.004031\n",
            "228    1.0        0.971024  0.000015  ...  0.000044  0.000007           0.000155\n",
            "107    1.0        0.979444  0.000014  ...  0.000122  0.000201           0.001705\n",
            "347    1.0        0.993457  0.000009  ...  0.000034  0.000282           0.001732\n",
            "231    1.0        0.973316  0.000015  ...  0.000022  0.000007           0.000126\n",
            "..     ...             ...       ...  ...       ...       ...                ...\n",
            "320    1.0        0.997660  0.000008  ...  0.000016  0.000049           0.000527\n",
            "15     1.0        0.978129  0.000014  ...  0.000028  0.000127           0.000763\n",
            "484    1.0        0.967249  0.000011  ...  0.000236  0.000900           0.004252\n",
            "125    1.0        0.999917  0.000007  ...  0.000000  0.000007           0.000037\n",
            "265    1.0        0.997516  0.000008  ...  0.000016  0.000031           0.000413\n",
            "\n",
            "[396 rows x 19 columns]\n"
          ]
        }
      ]
    },
    {
      "cell_type": "markdown",
      "metadata": {
        "id": "XWMh4pg0W5mU"
      },
      "source": [
        "A) Prueba de Shapiro-Wilk \n",
        "\n",
        "Es una prueba de normalidad. Si p-value es menor a .05 significa que la hipótesis falla y que nuestros datos no están normalizados. Con los resultados siguientes se comprueba que los datos están normalizados ya que su p'value es mayor a un alfa de 0.05"
      ]
    },
    {
      "cell_type": "code",
      "metadata": {
        "colab": {
          "base_uri": "https://localhost:8080/"
        },
        "id": "PrlId8VYu_gH",
        "outputId": "a229d358-5b67-4045-c634-f4f1d8fd648d"
      },
      "source": [
        "stats.shapiro(train_data[\"Likes\"])"
      ],
      "execution_count": null,
      "outputs": [
        {
          "output_type": "execute_result",
          "data": {
            "text/plain": [
              "(0.6482378244400024, 1.2067595853281703e-30)"
            ]
          },
          "metadata": {},
          "execution_count": 245
        }
      ]
    },
    {
      "cell_type": "code",
      "metadata": {
        "colab": {
          "base_uri": "https://localhost:8080/"
        },
        "id": "15WBoLidvGcr",
        "outputId": "b94842f9-20b1-43af-8148-0b41fc286096"
      },
      "source": [
        "stats.shapiro(data[\"LifetimePostConsumers\"])"
      ],
      "execution_count": null,
      "outputs": [
        {
          "output_type": "execute_result",
          "data": {
            "text/plain": [
              "(0.6203077435493469, 1.42813383014028e-31)"
            ]
          },
          "metadata": {},
          "execution_count": 246
        }
      ]
    },
    {
      "cell_type": "code",
      "metadata": {
        "colab": {
          "base_uri": "https://localhost:8080/"
        },
        "id": "mnljEvNLNrxy",
        "outputId": "a8e4de0b-3b20-40c1-c95c-65d70ca7c9e9"
      },
      "source": [
        "stats.shapiro(data[\"LifeTimePeopleEngagedWithPost\"])"
      ],
      "execution_count": null,
      "outputs": [
        {
          "output_type": "execute_result",
          "data": {
            "text/plain": [
              "(0.6745402812957764, 1.0220437007857194e-29)"
            ]
          },
          "metadata": {},
          "execution_count": 247
        }
      ]
    },
    {
      "cell_type": "markdown",
      "metadata": {
        "id": "TByZSn2hNzgv"
      },
      "source": [
        "# C)"
      ]
    },
    {
      "cell_type": "code",
      "metadata": {
        "id": "xcyhNScfBv7u",
        "colab": {
          "base_uri": "https://localhost:8080/"
        },
        "outputId": "5f903cf8-fafd-4181-e650-5bcb9734702d"
      },
      "source": [
        "\n",
        "model_1 = sm.OLS(Y_train, X_train).fit()\n",
        "print(model_1.summary())"
      ],
      "execution_count": null,
      "outputs": [
        {
          "output_type": "stream",
          "name": "stdout",
          "text": [
            "                            OLS Regression Results                            \n",
            "==============================================================================\n",
            "Dep. Variable:                  Likes   R-squared:                       1.000\n",
            "Model:                            OLS   Adj. R-squared:                  1.000\n",
            "Method:                 Least Squares   F-statistic:                 1.166e+29\n",
            "Date:                Mon, 13 Sep 2021   Prob (F-statistic):               0.00\n",
            "Time:                        04:18:39   Log-Likelihood:                 14681.\n",
            "No. Observations:                 396   AIC:                        -2.932e+04\n",
            "Df Residuals:                     377   BIC:                        -2.925e+04\n",
            "Df Model:                          18                                         \n",
            "Covariance Type:            nonrobust                                         \n",
            "=================================================================================================\n",
            "                                    coef    std err          t      P>|t|      [0.025      0.975]\n",
            "-------------------------------------------------------------------------------------------------\n",
            "const                         -1.279e-17   2.52e-17     -0.507      0.612   -6.24e-17    3.68e-17\n",
            "TotalPageLikes                -1.236e-17   2.58e-17     -0.479      0.632   -6.31e-17    3.84e-17\n",
            "Type                           2.665e-14   4.02e-13      0.066      0.947   -7.63e-13    8.16e-13\n",
            "Category                      -1.776e-15   1.68e-13     -0.011      0.992   -3.33e-13    3.29e-13\n",
            "PastMonth                      8.882e-16   6.97e-14      0.013      0.990   -1.36e-13    1.38e-13\n",
            "PostWeekDay                    2.887e-15   6.21e-14      0.046      0.963   -1.19e-13    1.25e-13\n",
            "PostHour                      -2.998e-15    2.9e-14     -0.103      0.918      -6e-14     5.4e-14\n",
            "Paid                          -2.336e-13    2.9e-13     -0.804      0.422   -8.05e-13    3.37e-13\n",
            "LifetimePostTotalReach         2.125e-17   3.38e-17      0.628      0.530   -4.52e-17    8.77e-17\n",
            "LifetimePostTotalImpressions  -8.457e-18   1.97e-17     -0.430      0.667   -4.71e-17    3.02e-17\n",
            "LifeTimeEngagedUsers           5.551e-16   4.71e-15      0.118      0.906    -8.7e-15    9.81e-15\n",
            "LifetimePostConsumers           1.11e-16   4.72e-15      0.024      0.981   -9.16e-15    9.38e-15\n",
            "LifeTimePostConsumptions      -3.166e-17   1.08e-16     -0.293      0.770   -2.44e-16    1.81e-16\n",
            "LPIPeopleWhohaveLikedPage      4.445e-18   3.45e-17      0.129      0.898   -6.35e-17    7.24e-17\n",
            "LPIPeopleWhoLikePage          -1.735e-17   9.23e-17     -0.188      0.851   -1.99e-16    1.64e-16\n",
            "LifeTimePeopleEngagedWithPost  5.065e-16   6.21e-16      0.815      0.416   -7.15e-16    1.73e-15\n",
            "Comment                          -1.0000   1.68e-14  -5.97e+13      0.000      -1.000      -1.000\n",
            "Share                            -1.0000   1.43e-14  -7.02e+13      0.000      -1.000      -1.000\n",
            "TotalInteractions                 1.0000   4.46e-15   2.24e+14      0.000       1.000       1.000\n",
            "==============================================================================\n",
            "Omnibus:                      225.047   Durbin-Watson:                   0.231\n",
            "Prob(Omnibus):                  0.000   Jarque-Bera (JB):             1599.704\n",
            "Skew:                          -2.383   Prob(JB):                         0.00\n",
            "Kurtosis:                      11.616   Cond. No.                     5.66e+05\n",
            "==============================================================================\n",
            "\n",
            "Warnings:\n",
            "[1] Standard Errors assume that the covariance matrix of the errors is correctly specified.\n",
            "[2] The condition number is large, 5.66e+05. This might indicate that there are\n",
            "strong multicollinearity or other numerical problems.\n"
          ]
        }
      ]
    },
    {
      "cell_type": "code",
      "metadata": {
        "colab": {
          "base_uri": "https://localhost:8080/"
        },
        "id": "OQu-OtWjPTwT",
        "outputId": "955a412f-33cd-457f-9906-1ab6ab7d991c"
      },
      "source": [
        "## Prediction Formula\n",
        "formula = \"\"\n",
        "x = 1\n",
        "for val in model_1.params:\n",
        "  formula += f'{val}x{x} +'\n",
        "  x += 1\n",
        "print(formula)"
      ],
      "execution_count": null,
      "outputs": [
        {
          "output_type": "stream",
          "name": "stdout",
          "text": [
            "-1.2793585635328952e-17x1 +-1.235990476633475e-17x2 +2.6645352591003757e-14x3 +-1.7763568394002505e-15x4 +8.881784197001252e-16x5 +2.886579864025407e-15x6 +-2.9976021664879227e-15x7 +-2.3359092438113294e-13x8 +2.1250362580715887e-17x9 +-8.456776945386935e-18x10 +5.551115123125783e-16x11 +1.1102230246251565e-16x12 +-3.165870343657673e-17x13 +4.445228907190568e-18x14 +-1.734723475976807e-17x15 +5.065392549852277e-16x16 +-0.9999999999999973x17 +-0.9999999999999998x18 +1.0x19 +\n"
          ]
        }
      ]
    },
    {
      "cell_type": "code",
      "metadata": {
        "id": "HjS5ugghH3dL",
        "colab": {
          "base_uri": "https://localhost:8080/"
        },
        "outputId": "46d2522c-64ee-4664-d3dd-a63bfc28f361"
      },
      "source": [
        "predictions = model_1.predict(X_test) \n",
        "np.corrcoef(predictions, Y_test.T)"
      ],
      "execution_count": null,
      "outputs": [
        {
          "output_type": "execute_result",
          "data": {
            "text/plain": [
              "array([[1., 1.],\n",
              "       [1., 1.]])"
            ]
          },
          "metadata": {},
          "execution_count": 251
        }
      ]
    },
    {
      "cell_type": "code",
      "metadata": {
        "colab": {
          "base_uri": "https://localhost:8080/"
        },
        "id": "fItqQs6uZjns",
        "outputId": "28713621-a1b8-477d-e743-d76e63c36f50"
      },
      "source": [
        "SSE = np.sum(np.power(predictions - Y_test.values, 2), axis=0)\n",
        "SSE"
      ],
      "execution_count": null,
      "outputs": [
        {
          "output_type": "execute_result",
          "data": {
            "text/plain": [
              "1.236913403517004e-31"
            ]
          },
          "metadata": {},
          "execution_count": 271
        }
      ]
    },
    {
      "cell_type": "code",
      "metadata": {
        "id": "7WRc-IasVIzH"
      },
      "source": [
        "X = train_data[[\"Type\", \"Category\", \"PastMonth\", \"PostWeekDay\", \"PostHour\", \"Paid\", \"LifetimePostTotalReach\",\"LifetimePostTotalImpressions\", \"LifeTimeEngagedUsers\", \"LifetimePostConsumers\", \"LifeTimePostConsumptions\", \"LPIPeopleWhohaveLikedPage\",  \"LPIPeopleWhoLikePage\", \"LifeTimePeopleEngagedWithPost\", \"Comment\", \"Share\", \"TotalInteractions\"]]\n",
        "Y = train_data[\"LifetimePostConsumers\"]\n",
        "\n",
        "X_train, X_test, Y_train, Y_test = train_test_split(X,Y,test_size=0.2,random_state=10)"
      ],
      "execution_count": null,
      "outputs": []
    },
    {
      "cell_type": "code",
      "metadata": {
        "colab": {
          "base_uri": "https://localhost:8080/"
        },
        "id": "gu6ZA4f3VQXd",
        "outputId": "5097ed7f-17e6-40f1-a5ff-5ff859e70e63"
      },
      "source": [
        "X_train = sm.add_constant(X_train)\n",
        "X_test = sm.add_constant(X_test)\n",
        "print(X_train)"
      ],
      "execution_count": null,
      "outputs": [
        {
          "output_type": "stream",
          "name": "stdout",
          "text": [
            "     const      Type  Category  ...   Comment     Share  TotalInteractions\n",
            "163    1.0  0.000007  0.000022  ...  0.000058  0.000463           0.004031\n",
            "228    1.0  0.000015  0.000015  ...  0.000044  0.000007           0.000155\n",
            "107    1.0  0.000014  0.000014  ...  0.000122  0.000201           0.001705\n",
            "347    1.0  0.000009  0.000026  ...  0.000034  0.000282           0.001732\n",
            "231    1.0  0.000015  0.000015  ...  0.000022  0.000007           0.000126\n",
            "..     ...       ...       ...  ...       ...       ...                ...\n",
            "320    1.0  0.000008  0.000024  ...  0.000016  0.000049           0.000527\n",
            "15     1.0  0.000014  0.000014  ...  0.000028  0.000127           0.000763\n",
            "484    1.0  0.000011  0.000034  ...  0.000236  0.000900           0.004252\n",
            "125    1.0  0.000007  0.000007  ...  0.000000  0.000007           0.000037\n",
            "265    1.0  0.000008  0.000008  ...  0.000016  0.000031           0.000413\n",
            "\n",
            "[396 rows x 18 columns]\n"
          ]
        }
      ]
    },
    {
      "cell_type": "code",
      "metadata": {
        "colab": {
          "base_uri": "https://localhost:8080/"
        },
        "id": "crO1MPMcVYAR",
        "outputId": "059cbce6-ad2a-44d8-a47e-857a6f73ec8c"
      },
      "source": [
        "model_2 = sm.OLS(Y_train, X_train).fit()\n",
        "print(model_2.summary())"
      ],
      "execution_count": null,
      "outputs": [
        {
          "output_type": "stream",
          "name": "stdout",
          "text": [
            "                              OLS Regression Results                             \n",
            "=================================================================================\n",
            "Dep. Variable:     LifetimePostConsumers   R-squared:                       1.000\n",
            "Model:                               OLS   Adj. R-squared:                  1.000\n",
            "Method:                    Least Squares   F-statistic:                 7.379e+28\n",
            "Date:                   Mon, 13 Sep 2021   Prob (F-statistic):               0.00\n",
            "Time:                           04:18:59   Log-Likelihood:                 14017.\n",
            "No. Observations:                    396   AIC:                        -2.800e+04\n",
            "Df Residuals:                        378   BIC:                        -2.793e+04\n",
            "Df Model:                             17                                         \n",
            "Covariance Type:               nonrobust                                         \n",
            "=================================================================================================\n",
            "                                    coef    std err          t      P>|t|      [0.025      0.975]\n",
            "-------------------------------------------------------------------------------------------------\n",
            "const                          5.182e-17   3.92e-17      1.322      0.187   -2.53e-17    1.29e-16\n",
            "Type                          -1.066e-12   2.13e-12     -0.501      0.616   -5.25e-12    3.11e-12\n",
            "Category                        1.35e-13   8.95e-13      0.151      0.880   -1.62e-12    1.89e-12\n",
            "PastMonth                      1.039e-13   3.54e-13      0.294      0.769   -5.92e-13       8e-13\n",
            "PostWeekDay                    -3.02e-14   3.32e-13     -0.091      0.928   -6.83e-13    6.23e-13\n",
            "PostHour                       1.776e-15   1.54e-13      0.012      0.991   -3.02e-13    3.05e-13\n",
            "Paid                          -1.066e-13   1.54e-12     -0.069      0.945   -3.14e-12    2.93e-12\n",
            "LifetimePostTotalReach        -5.963e-16   1.77e-16     -3.364      0.001   -9.45e-16   -2.48e-16\n",
            "LifetimePostTotalImpressions   3.595e-16   8.73e-17      4.120      0.000    1.88e-16    5.31e-16\n",
            "LifeTimeEngagedUsers           1.776e-15    2.5e-14      0.071      0.943   -4.73e-14    5.09e-14\n",
            "LifetimePostConsumers             1.0000    2.5e-14      4e+13      0.000       1.000       1.000\n",
            "LifeTimePostConsumptions       3.469e-17   5.78e-16      0.060      0.952    -1.1e-15    1.17e-15\n",
            "LPIPeopleWhohaveLikedPage      -4.77e-18   1.44e-16     -0.033      0.974   -2.88e-16    2.78e-16\n",
            "LPIPeopleWhoLikePage          -4.892e-16   4.11e-16     -1.190      0.235    -1.3e-15    3.19e-16\n",
            "LifeTimePeopleEngagedWithPost   2.22e-16   3.32e-15      0.067      0.947   -6.31e-15    6.75e-15\n",
            "Comment                                0   8.96e-14          0      1.000   -1.76e-13    1.76e-13\n",
            "Share                         -4.441e-15   7.63e-14     -0.058      0.954   -1.54e-13    1.46e-13\n",
            "TotalInteractions              2.665e-15   2.38e-14      0.112      0.911   -4.41e-14    4.94e-14\n",
            "==============================================================================\n",
            "Omnibus:                      185.072   Durbin-Watson:                   0.565\n",
            "Prob(Omnibus):                  0.000   Jarque-Bera (JB):             2499.205\n",
            "Skew:                          -1.613   Prob(JB):                         0.00\n",
            "Kurtosis:                      14.877   Cond. No.                     4.12e+05\n",
            "==============================================================================\n",
            "\n",
            "Warnings:\n",
            "[1] Standard Errors assume that the covariance matrix of the errors is correctly specified.\n",
            "[2] The condition number is large, 4.12e+05. This might indicate that there are\n",
            "strong multicollinearity or other numerical problems.\n"
          ]
        }
      ]
    },
    {
      "cell_type": "code",
      "metadata": {
        "colab": {
          "base_uri": "https://localhost:8080/"
        },
        "id": "aLwhAcF3VbhR",
        "outputId": "9c24f577-6cb6-4728-a227-1c66785349be"
      },
      "source": [
        "## Prediction Formula\n",
        "formula = \"\"\n",
        "x = 1\n",
        "for val in model_2.params:\n",
        "  formula += f'{val}x{x} +'\n",
        "  x += 1\n",
        "print(formula)"
      ],
      "execution_count": null,
      "outputs": [
        {
          "output_type": "stream",
          "name": "stdout",
          "text": [
            "5.182486384480711e-17x1 +-1.0658141036401503e-12x2 +1.3500311979441904e-13x3 +1.0391687510491465e-13x4 +-3.019806626980426e-14x5 +1.7763568394002505e-15x6 +-1.0658141036401503e-13x7 +-5.963111948670274e-16x8 +3.5952144039619327e-16x9 +1.7763568394002505e-15x10 +1.0000000000000067x11 +3.469446951953614e-17x12 +-4.7704895589362195e-18x13 +-4.891920202254596e-16x14 +2.220446049250313e-16x15 +0.0x16 +-4.440892098500626e-15x17 +2.6645352591003757e-15x18 +\n"
          ]
        }
      ]
    },
    {
      "cell_type": "code",
      "metadata": {
        "colab": {
          "base_uri": "https://localhost:8080/"
        },
        "id": "Fpx1UDQQVd5d",
        "outputId": "cc4856b9-8f13-4112-d09e-59c8624d2eb8"
      },
      "source": [
        "predictions = model_2.predict(X_test) \n",
        "np.corrcoef(predictions, Y_test.T)"
      ],
      "execution_count": null,
      "outputs": [
        {
          "output_type": "execute_result",
          "data": {
            "text/plain": [
              "array([[1., 1.],\n",
              "       [1., 1.]])"
            ]
          },
          "metadata": {},
          "execution_count": 257
        }
      ]
    },
    {
      "cell_type": "code",
      "metadata": {
        "colab": {
          "base_uri": "https://localhost:8080/"
        },
        "id": "1SaQvv27Zh3v",
        "outputId": "54f8f719-a857-4c8a-9652-9b7df7f26d84"
      },
      "source": [
        "SSE = np.sum(np.power(predictions - Y_test.values, 2), axis=0)\n",
        "SSE"
      ],
      "execution_count": null,
      "outputs": [
        {
          "output_type": "execute_result",
          "data": {
            "text/plain": [
              "1.236913403517004e-31"
            ]
          },
          "metadata": {},
          "execution_count": 270
        }
      ]
    },
    {
      "cell_type": "code",
      "metadata": {
        "id": "_F4LB92PWEYL"
      },
      "source": [
        "X = train_data[[\"Type\", \"Category\", \"PastMonth\", \"PostWeekDay\", \"PostHour\", \"Paid\", \"LifetimePostTotalReach\",\"LifetimePostTotalImpressions\", \"LifeTimeEngagedUsers\", \"LifetimePostConsumers\", \"LifeTimePostConsumptions\", \"LPIPeopleWhohaveLikedPage\",  \"LPIPeopleWhoLikePage\", \"LifeTimePeopleEngagedWithPost\", \"Comment\", \"Share\", \"TotalInteractions\"]]\n",
        "Y = train_data[\"LifeTimePeopleEngagedWithPost\"]\n",
        "\n",
        "X_train, X_test, Y_train, Y_test = train_test_split(X,Y,test_size=0.2,random_state=10)"
      ],
      "execution_count": null,
      "outputs": []
    },
    {
      "cell_type": "code",
      "metadata": {
        "colab": {
          "base_uri": "https://localhost:8080/"
        },
        "id": "EoKAgr4VWIg5",
        "outputId": "e87c20c9-57d6-4958-c589-86530707a463"
      },
      "source": [
        "model_3 = sm.OLS(Y_train, X_train).fit()\n",
        "print(model_3.summary())"
      ],
      "execution_count": null,
      "outputs": [
        {
          "output_type": "stream",
          "name": "stdout",
          "text": [
            "                                      OLS Regression Results                                      \n",
            "==================================================================================================\n",
            "Dep. Variable:     LifeTimePeopleEngagedWithPost   R-squared (uncentered):                   1.000\n",
            "Model:                                       OLS   Adj. R-squared (uncentered):              1.000\n",
            "Method:                            Least Squares   F-statistic:                          5.556e+29\n",
            "Date:                           Mon, 13 Sep 2021   Prob (F-statistic):                        0.00\n",
            "Time:                                   04:19:16   Log-Likelihood:                          14407.\n",
            "No. Observations:                            396   AIC:                                 -2.878e+04\n",
            "Df Residuals:                                379   BIC:                                 -2.871e+04\n",
            "Df Model:                                     17                                                  \n",
            "Covariance Type:                       nonrobust                                                  \n",
            "=================================================================================================\n",
            "                                    coef    std err          t      P>|t|      [0.025      0.975]\n",
            "-------------------------------------------------------------------------------------------------\n",
            "Type                          -1.741e-13   7.66e-13     -0.227      0.820   -1.68e-12    1.33e-12\n",
            "Category                      -2.238e-13   2.78e-13     -0.804      0.422   -7.71e-13    3.24e-13\n",
            "PastMonth                       5.24e-14      8e-14      0.655      0.513   -1.05e-13     2.1e-13\n",
            "PostWeekDay                    -6.75e-14   1.17e-13     -0.577      0.564   -2.98e-13    1.63e-13\n",
            "PostHour                       2.753e-14   5.14e-14      0.535      0.593   -7.36e-14    1.29e-13\n",
            "Paid                           1.883e-13   5.75e-13      0.328      0.743   -9.42e-13    1.32e-12\n",
            "LifetimePostTotalReach        -2.776e-17   6.53e-17     -0.425      0.671   -1.56e-16    1.01e-16\n",
            "LifetimePostTotalImpressions  -1.466e-16   3.23e-17     -4.540      0.000    -2.1e-16   -8.31e-17\n",
            "LifeTimeEngagedUsers           3.109e-15   9.26e-15      0.336      0.737   -1.51e-14    2.13e-14\n",
            "LifetimePostConsumers          -2.22e-15   9.27e-15     -0.240      0.811   -2.04e-14     1.6e-14\n",
            "LifeTimePostConsumptions       1.561e-17   2.15e-16      0.073      0.942   -4.08e-16    4.39e-16\n",
            "LPIPeopleWhohaveLikedPage     -2.732e-17   5.23e-17     -0.522      0.602    -1.3e-16    7.56e-17\n",
            "LPIPeopleWhoLikePage           1.605e-17   1.53e-16      0.105      0.917   -2.85e-16    3.17e-16\n",
            "LifeTimePeopleEngagedWithPost     1.0000   1.21e-15   8.29e+14      0.000       1.000       1.000\n",
            "Comment                       -1.266e-14   3.34e-14     -0.379      0.705   -7.83e-14     5.3e-14\n",
            "Share                          2.132e-14   2.84e-14      0.750      0.454   -3.46e-14    7.72e-14\n",
            "TotalInteractions             -3.775e-15   8.85e-15     -0.426      0.670   -2.12e-14    1.36e-14\n",
            "==============================================================================\n",
            "Omnibus:                      168.705   Durbin-Watson:                   1.269\n",
            "Prob(Omnibus):                  0.000   Jarque-Bera (JB):              514.290\n",
            "Skew:                           2.059   Prob(JB):                    2.10e-112\n",
            "Kurtosis:                       6.771   Cond. No.                     1.18e+05\n",
            "==============================================================================\n",
            "\n",
            "Warnings:\n",
            "[1] Standard Errors assume that the covariance matrix of the errors is correctly specified.\n",
            "[2] The condition number is large, 1.18e+05. This might indicate that there are\n",
            "strong multicollinearity or other numerical problems.\n"
          ]
        }
      ]
    },
    {
      "cell_type": "code",
      "metadata": {
        "colab": {
          "base_uri": "https://localhost:8080/"
        },
        "id": "oqr-WkOHWLLb",
        "outputId": "bf5e4641-2287-44f6-a303-655f28d99f98"
      },
      "source": [
        "## Prediction Formula\n",
        "formula = \"\"\n",
        "x = 1\n",
        "for val in model_3.params:\n",
        "  formula += f'{val}x{x} +'\n",
        "  x += 1\n",
        "print(formula)"
      ],
      "execution_count": null,
      "outputs": [
        {
          "output_type": "stream",
          "name": "stdout",
          "text": [
            "-1.7408297026122455e-13x1 +-2.2382096176443156e-13x2 +5.240252676230739e-14x3 +-6.750155989720952e-14x4 +2.7533531010703882e-14x5 +1.8829382497642655e-13x6 +-2.7755575615628914e-17x7 +-1.465841337200402e-16x8 +3.1086244689504383e-15x9 +-2.220446049250313e-15x10 +1.5612511283791264e-17x11 +-2.7321894746634712e-17x12 +1.6046192152785466e-17x13 +0.9999999999999998x14 +-1.2656542480726785e-14x15 +2.1316282072803006e-14x16 +-3.774758283725532e-15x17 +\n"
          ]
        }
      ]
    },
    {
      "cell_type": "code",
      "metadata": {
        "colab": {
          "base_uri": "https://localhost:8080/"
        },
        "id": "_5upsiOeWNwH",
        "outputId": "b8c8c6ab-5514-42cf-d851-9c1ad97b9540"
      },
      "source": [
        "predictions = model_3.predict(X_test) \n",
        "np.corrcoef(predictions, Y_test.T)"
      ],
      "execution_count": null,
      "outputs": [
        {
          "output_type": "execute_result",
          "data": {
            "text/plain": [
              "array([[1., 1.],\n",
              "       [1., 1.]])"
            ]
          },
          "metadata": {},
          "execution_count": 261
        }
      ]
    },
    {
      "cell_type": "code",
      "metadata": {
        "colab": {
          "base_uri": "https://localhost:8080/"
        },
        "id": "nelXbyswZKXx",
        "outputId": "05e0e3db-dd2b-4a44-ae84-88fe293eee72"
      },
      "source": [
        "SSE = np.sum(np.power(predictions - Y_test.values, 2), axis=0)\n",
        "SSE"
      ],
      "execution_count": null,
      "outputs": [
        {
          "output_type": "execute_result",
          "data": {
            "text/plain": [
              "1.236913403517004e-31"
            ]
          },
          "metadata": {},
          "execution_count": 269
        }
      ]
    },
    {
      "cell_type": "markdown",
      "metadata": {
        "id": "kP6pFmkNWkmp"
      },
      "source": [
        "D) Creo que los resultados de las pruebas no fueron los correctos. Todas las predicciones salen con un R-cuadrado y ajustado de 1. Por lo que me está arrojando falso positivo. Puede ser que haya una variable la cual le está dando los resultados de antemano al modelo. \n",
        "\n"
      ]
    }
  ]
}